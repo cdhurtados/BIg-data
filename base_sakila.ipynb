{
 "cells": [
  {
   "cell_type": "markdown",
   "metadata": {},
   "source": [
    "**Trigger**"
   ]
  },
  {
   "cell_type": "markdown",
   "metadata": {},
   "source": [
    "## Carlos Hurtado"
   ]
  },
  {
   "cell_type": "markdown",
   "metadata": {},
   "source": [
    "Un trigger es un objeto almacenado en la base de datos que se ejecuta automaticamente en respuesta a la modificacion de los datos de una tabla. \n",
    "\n",
    "Estas modificaciones incluyen:\n",
    "\n",
    "* insert \n",
    "* update \n",
    "* delete \n",
    "\n",
    "MariaDB soporta los siguientes tipos de triggers:\n",
    "\n",
    "* Insert trigger: Se ejecuta automaticamente cuando una instruccion  insert agrega una nueva fila a una tabla. \n",
    "\n",
    "* Update trigger: Se activa automaticamente cuando una declaracion update modifica los datos de una tabla.\n",
    "\n",
    "* Delete trigger: Se invoca automaticamente cuando una declaracion delete  elimina una o mas filas de una tabla.\n",
    "\n",
    "\n",
    "MariaDB clasifica cada tipo de trigger por el tiempo del mismo como before y after:\n",
    "\n",
    "* Before trigger: Se activa justo antes de que ocurra un evento \n",
    "\n",
    "* After trigger: Se activa justo despues de que ocurra un evento "
   ]
  },
  {
   "cell_type": "markdown",
   "metadata": {},
   "source": [
    "Para crear un nuevo trigger en la base de datos se utiliza la siguiente sintaxis:\n",
    "\n",
    "create trigger trigger_name\n",
    "\n",
    "{before | after} {insert | update | delete }\n",
    "\n",
    "on table_name for each row\n",
    "\n",
    "trigger_body;\n",
    "\n",
    "En esta sintaxis:\n",
    "\n",
    "* Primero se especifica el nombre del trigger que usted quiere crear.\n",
    "* Segundo, se especifica el tiempo de accion: before o after.\n",
    "* Tercero, se especifica el evento que activa el trigger: insert, update y delete.\n",
    "* Cuarto, indique el nombre de la tabla a la que pertenece el trigger después de la palabra clave on. \n",
    "* Finalmente, especifique una declaración o declaraciones para ejecutar cuando se invoca el trigger.\n",
    "\n",
    "Si desea ejecutar varias instrucciones, colóquelas dentro de la instrucción compuesta BEGIN END.\n",
    "\n",
    "Dentro del cuerpo del trigger, puede acceder a los valores de las columnas que se ven afectadas por una instrucción: insert, update o delete. Los modificadores old y new le permiten acceder a los valores de las columnas antes y después del evento del trigger.\n"
   ]
  },
  {
   "cell_type": "markdown",
   "metadata": {},
   "source": [
    "**Ejemplo 1 payment_date**\n",
    "\n",
    "El siguiente trigger coloca la fecha de pago justo antes que se inserte valores en la tabla payment. Se utiliza la funcion NOW() para colocar la fecha."
   ]
  },
  {
   "cell_type": "code",
   "execution_count": 1,
   "metadata": {},
   "outputs": [
    {
     "data": {
      "text/html": [
       "Query OK"
      ]
     },
     "metadata": {},
     "output_type": "display_data"
    }
   ],
   "source": [
    "use sakila;"
   ]
  },
  {
   "cell_type": "code",
   "execution_count": 5,
   "metadata": {},
   "outputs": [
    {
     "name": "stderr",
     "output_type": "stream",
     "text": [
      "Trigger 'sakila.payment_date' already exists\n",
      "\u0007\u001b(B\u001b[0;7m\u001b(B\u001b[m\n"
     ]
    }
   ],
   "source": [
    "CREATE TRIGGER payment_date BEFORE INSERT ON payment\n",
    "\tFOR EACH ROW SET NEW.payment_date = NOW();\n"
   ]
  },
  {
   "cell_type": "code",
   "execution_count": 7,
   "metadata": {},
   "outputs": [
    {
     "data": {
      "text/html": [
       "<html><body><table border=\"1\"><tr><th style=\"text-align:left;white-space:pre\">count(*)</th></tr><tr><td style=\"text-align:left;white-space:pre\">16049</td></tr></table></body></html>"
      ]
     },
     "metadata": {},
     "output_type": "display_data"
    }
   ],
   "source": [
    "select count(*) from payment;"
   ]
  },
  {
   "cell_type": "code",
   "execution_count": 8,
   "metadata": {},
   "outputs": [
    {
     "data": {
      "text/html": [
       "<html><body><table border=\"1\"><tr><th style=\"text-align:left;white-space:pre\">Field</th><th style=\"text-align:left;white-space:pre\">Type</th><th style=\"text-align:left;white-space:pre\">Null</th><th style=\"text-align:left;white-space:pre\">Key</th><th style=\"text-align:left;white-space:pre\">Default</th><th style=\"text-align:left;white-space:pre\">Extra</th></tr><tr><td style=\"text-align:left;white-space:pre\">payment_id</td><td style=\"text-align:left;white-space:pre\">smallint(5) unsigned</td><td style=\"text-align:left;white-space:pre\">NO</td><td style=\"text-align:left;white-space:pre\">PRI</td><td style=\"text-align:left;white-space:pre\">NULL</td><td style=\"text-align:left;white-space:pre\">auto_increment</td></tr><tr><td style=\"text-align:left;white-space:pre\">customer_id</td><td style=\"text-align:left;white-space:pre\">smallint(5) unsigned</td><td style=\"text-align:left;white-space:pre\">NO</td><td style=\"text-align:left;white-space:pre\">MUL</td><td style=\"text-align:left;white-space:pre\">NULL</td><td style=\"text-align:left;white-space:pre\"></td></tr><tr><td style=\"text-align:left;white-space:pre\">staff_id</td><td style=\"text-align:left;white-space:pre\">tinyint(3) unsigned</td><td style=\"text-align:left;white-space:pre\">NO</td><td style=\"text-align:left;white-space:pre\">MUL</td><td style=\"text-align:left;white-space:pre\">NULL</td><td style=\"text-align:left;white-space:pre\"></td></tr><tr><td style=\"text-align:left;white-space:pre\">rental_id</td><td style=\"text-align:left;white-space:pre\">int(11)</td><td style=\"text-align:left;white-space:pre\">YES</td><td style=\"text-align:left;white-space:pre\">MUL</td><td style=\"text-align:left;white-space:pre\">NULL</td><td style=\"text-align:left;white-space:pre\"></td></tr><tr><td style=\"text-align:left;white-space:pre\">amount</td><td style=\"text-align:left;white-space:pre\">decimal(5,2)</td><td style=\"text-align:left;white-space:pre\">NO</td><td style=\"text-align:left;white-space:pre\"></td><td style=\"text-align:left;white-space:pre\">NULL</td><td style=\"text-align:left;white-space:pre\"></td></tr><tr><td style=\"text-align:left;white-space:pre\">payment_date</td><td style=\"text-align:left;white-space:pre\">datetime</td><td style=\"text-align:left;white-space:pre\">NO</td><td style=\"text-align:left;white-space:pre\"></td><td style=\"text-align:left;white-space:pre\">NULL</td><td style=\"text-align:left;white-space:pre\"></td></tr><tr><td style=\"text-align:left;white-space:pre\">last_update</td><td style=\"text-align:left;white-space:pre\">timestamp</td><td style=\"text-align:left;white-space:pre\">NO</td><td style=\"text-align:left;white-space:pre\"></td><td style=\"text-align:left;white-space:pre\">current_timestamp()</td><td style=\"text-align:left;white-space:pre\">on update current_timestamp()</td></tr></table></body></html>"
      ]
     },
     "metadata": {},
     "output_type": "display_data"
    }
   ],
   "source": [
    "SHOW COLUMNS FROM payment;"
   ]
  },
  {
   "cell_type": "markdown",
   "metadata": {},
   "source": [
    "Se inserta un registro en *payment*"
   ]
  },
  {
   "cell_type": "code",
   "execution_count": 9,
   "metadata": {},
   "outputs": [
    {
     "data": {
      "text/html": [
       "Query OK"
      ]
     },
     "metadata": {},
     "output_type": "display_data"
    }
   ],
   "source": [
    "INSERT INTO payment (customer_id, staff_id,rental_id,amount) VALUES (1,1,76,2.99);"
   ]
  },
  {
   "cell_type": "code",
   "execution_count": 10,
   "metadata": {},
   "outputs": [
    {
     "data": {
      "text/html": [
       "<html><body><table border=\"1\"><tr><th style=\"text-align:left;white-space:pre\">count(*)</th></tr><tr><td style=\"text-align:left;white-space:pre\">16050</td></tr></table></body></html>"
      ]
     },
     "metadata": {},
     "output_type": "display_data"
    }
   ],
   "source": [
    "select count(*) from payment;"
   ]
  },
  {
   "cell_type": "markdown",
   "metadata": {},
   "source": [
    "Se selecciona el ultimo registro de *payment* donde se puede apreciar la fecha que genero el trigger. "
   ]
  },
  {
   "cell_type": "code",
   "execution_count": 12,
   "metadata": {},
   "outputs": [
    {
     "data": {
      "text/html": [
       "<html><body><table border=\"1\"><tr><th style=\"text-align:left;white-space:pre\">payment_id</th><th style=\"text-align:left;white-space:pre\">customer_id</th><th style=\"text-align:left;white-space:pre\">staff_id</th><th style=\"text-align:left;white-space:pre\">rental_id</th><th style=\"text-align:left;white-space:pre\">amount</th><th style=\"text-align:left;white-space:pre\">payment_date</th><th style=\"text-align:left;white-space:pre\">last_update</th></tr><tr><td style=\"text-align:left;white-space:pre\">16050</td><td style=\"text-align:left;white-space:pre\">1</td><td style=\"text-align:left;white-space:pre\">1</td><td style=\"text-align:left;white-space:pre\">76</td><td style=\"text-align:left;white-space:pre\">2.99</td><td style=\"text-align:left;white-space:pre\">2021-05-04 22:16:16</td><td style=\"text-align:left;white-space:pre\">2021-05-04 22:16:16</td></tr></table></body></html>"
      ]
     },
     "metadata": {},
     "output_type": "display_data"
    }
   ],
   "source": [
    "SELECT * FROM payment ORDER BY payment_id DESC LIMIT 1;"
   ]
  },
  {
   "cell_type": "markdown",
   "metadata": {},
   "source": [
    "**Ejemplo 2 ins_film** \n",
    "\n",
    "El siguiente trigger genera un registro en la tabla film_text luego que se inserta una fila en la tabla film. \n"
   ]
  },
  {
   "cell_type": "markdown",
   "metadata": {},
   "source": [
    "A continuacion se crea el trigger ( que ya està en la base )"
   ]
  },
  {
   "cell_type": "code",
   "execution_count": 2,
   "metadata": {},
   "outputs": [
    {
     "name": "stderr",
     "output_type": "stream",
     "text": [
      "Trigger 'sakila.ins_film' already exists\n",
      "\u0007\u001b(B\u001b[0;7m\u001b(B\u001b[m\n"
     ]
    }
   ],
   "source": [
    "DELIMITER ;;\n",
    "CREATE TRIGGER `ins_film` AFTER INSERT ON `film` FOR EACH ROW BEGIN\n",
    "    INSERT INTO film_text (film_id, title, description)\n",
    "        VALUES (new.film_id, new.title, new.description);\n",
    "  END;;\n"
   ]
  },
  {
   "cell_type": "markdown",
   "metadata": {},
   "source": [
    "A continuaciòn se inserta una fila en la tabla *film* "
   ]
  },
  {
   "cell_type": "code",
   "execution_count": 9,
   "metadata": {},
   "outputs": [
    {
     "data": {
      "text/html": [
       "Query OK"
      ]
     },
     "metadata": {},
     "output_type": "display_data"
    }
   ],
   "source": [
    "INSERT INTO film (title, description,release_year,language_id,length,rating,\n",
    "                  special_features)\n",
    "                  \n",
    "VALUES ('La vendedora de rosas','Una pelicula de drogas hecha en medellin',2000,1,86,'PG','Deleted Scenes,Behind the Scenes');"
   ]
  },
  {
   "cell_type": "markdown",
   "metadata": {},
   "source": [
    "Se muestra el ultimo registro que se ingresò a la tabla film"
   ]
  },
  {
   "cell_type": "code",
   "execution_count": 13,
   "metadata": {},
   "outputs": [
    {
     "data": {
      "text/html": [
       "<html><body><table border=\"1\"><tr><th style=\"text-align:left;white-space:pre\">film_id</th><th style=\"text-align:left;white-space:pre\">title</th><th style=\"text-align:left;white-space:pre\">description</th><th style=\"text-align:left;white-space:pre\">release_year</th><th style=\"text-align:left;white-space:pre\">language_id</th><th style=\"text-align:left;white-space:pre\">original_language_id</th><th style=\"text-align:left;white-space:pre\">rental_duration</th><th style=\"text-align:left;white-space:pre\">rental_rate</th><th style=\"text-align:left;white-space:pre\">length</th><th style=\"text-align:left;white-space:pre\">replacement_cost</th><th style=\"text-align:left;white-space:pre\">rating</th><th style=\"text-align:left;white-space:pre\">special_features</th><th style=\"text-align:left;white-space:pre\">last_update</th></tr><tr><td style=\"text-align:left;white-space:pre\">1001</td><td style=\"text-align:left;white-space:pre\">La vendedora de rosas</td><td style=\"text-align:left;white-space:pre\">Una pelicula de drogas hecha en medellin</td><td style=\"text-align:left;white-space:pre\">2000</td><td style=\"text-align:left;white-space:pre\">1</td><td style=\"text-align:left;white-space:pre\">NULL</td><td style=\"text-align:left;white-space:pre\">3</td><td style=\"text-align:left;white-space:pre\">4.99</td><td style=\"text-align:left;white-space:pre\">86</td><td style=\"text-align:left;white-space:pre\">19.99</td><td style=\"text-align:left;white-space:pre\">PG</td><td style=\"text-align:left;white-space:pre\">Deleted Scenes,Behind the Scenes</td><td style=\"text-align:left;white-space:pre\">2021-05-08 14:10:30</td></tr></table></body></html>"
      ]
     },
     "metadata": {},
     "output_type": "display_data"
    }
   ],
   "source": [
    "SELECT * FROM film  ORDER BY film_id DESC LIMIT 1;"
   ]
  },
  {
   "cell_type": "markdown",
   "metadata": {},
   "source": [
    "Se activò el trigger que inserta un registro en la tabla *film_text* "
   ]
  },
  {
   "cell_type": "code",
   "execution_count": 14,
   "metadata": {},
   "outputs": [
    {
     "data": {
      "text/html": [
       "<html><body><table border=\"1\"><tr><th style=\"text-align:left;white-space:pre\">film_id</th><th style=\"text-align:left;white-space:pre\">title</th><th style=\"text-align:left;white-space:pre\">description</th></tr><tr><td style=\"text-align:left;white-space:pre\">1001</td><td style=\"text-align:left;white-space:pre\">La vendedora de rosas</td><td style=\"text-align:left;white-space:pre\">Una pelicula de drogas hecha en medellin</td></tr></table></body></html>"
      ]
     },
     "metadata": {},
     "output_type": "display_data"
    }
   ],
   "source": [
    "SELECT * FROM film_text  ORDER BY film_id DESC LIMIT 1;"
   ]
  },
  {
   "cell_type": "markdown",
   "metadata": {},
   "source": [
    "**Funciones**\n",
    "\n",
    "* ¿Que es una funcion?: Es un programa almacenado en el que se ingresan parametros y luego devuelve un valor\n",
    "* La estructura para crear una funciòn es: \n",
    "\n",
    "    CREATE \n",
    "[ DEFINER = { CURRENT_USER | user_name } ] \n",
    "FUNCTION function_name [ (parameter datatype [, parameter datatype]) ]\n",
    "RETURNS return_datatype [ LANGUAGE SQL\n",
    "                        | DETERMINISTIC\n",
    "                        | NOT DETERMINISTIC\n",
    "                        | { CONTAINS SQL \n",
    "                          | NO SQL\n",
    "                          | READS SQL DATA\n",
    "                          | MODIFIES SQL DATA }\n",
    "                        | SQL SECURITY { DEFINER | INVOKER }\n",
    "                        | COMMENT 'comment_value'\n",
    "\n",
    "BEGIN\n",
    "\n",
    "   declaration_section\n",
    "\n",
    "   executable_section\n",
    "\n",
    "END;\n",
    "\n",
    "En la clausula definer se coloca el usuario que ha creado la funciòn.\n",
    "En los tipos de datos que puede retornar se encuentran:\n",
    "\n",
    "* Lenguaje sql.\n",
    "* Deterministico.\n",
    "* Contenido SQL.\n",
    "* Lectura de datos sql.\n",
    "\n",
    "\n",
    "Ejemplo 1: \n",
    "\n",
    "La funcion *The inventory_held_by_customer* devuelve el *customer_id* del cliente que ha alquilado el artículo de inventario especificado.\n",
    "\n",
    "Esta función devuelve el customer_id del cliente que actualmente está alquilando el artículo, o NULL si el artículo está en stock. "
   ]
  },
  {
   "cell_type": "code",
   "execution_count": 19,
   "metadata": {},
   "outputs": [
    {
     "name": "stderr",
     "output_type": "stream",
     "text": [
      "FUNCTION inventory_held_by_customer already exists\n",
      "ERROR 1065 (42000) at line 4 in file: '/home/camilo/Descargas/.mariadb_statement': Query was empty\n",
      "\u0007\u001b(B\u001b[0;7m\u001b(B\u001b[m\u0007\u001b(B\u001b[0;7m\u001b(B\u001b[m\n"
     ]
    }
   ],
   "source": [
    "DELIMITER ;\n",
    "DELIMITER $$\n",
    "\n",
    "CREATE FUNCTION inventory_held_by_customer(p_inventory_id INT) RETURNS INT\n",
    "READS SQL DATA\n",
    "BEGIN\n",
    "  DECLARE v_customer_id INT;\n",
    "  DECLARE EXIT HANDLER FOR NOT FOUND RETURN NULL;\n",
    "\n",
    "  SELECT customer_id INTO v_customer_id\n",
    "  FROM rental\n",
    "  WHERE return_date IS NULL\n",
    "  AND inventory_id = p_inventory_id;\n",
    "\n",
    "  RETURN v_customer_id;\n",
    "END $$;"
   ]
  },
  {
   "cell_type": "markdown",
   "metadata": {},
   "source": [
    "Veamos por ejemplo el id del cliente que actualmente esta alquilando el item 8"
   ]
  },
  {
   "cell_type": "code",
   "execution_count": 21,
   "metadata": {},
   "outputs": [
    {
     "data": {
      "text/html": [
       "<html><body><table border=\"1\"><tr><th style=\"text-align:left;white-space:pre\">inventory_held_by_customer(8)</th></tr><tr><td style=\"text-align:left;white-space:pre\">NULL</td></tr></table></body></html>"
      ]
     },
     "metadata": {},
     "output_type": "display_data"
    }
   ],
   "source": [
    "SELECT inventory_held_by_customer(8);"
   ]
  },
  {
   "cell_type": "markdown",
   "metadata": {},
   "source": [
    "Nos dio un valor Null ya que el item 8 actualmente esta en stock."
   ]
  },
  {
   "cell_type": "code",
   "execution_count": 25,
   "metadata": {},
   "outputs": [
    {
     "data": {
      "text/html": [
       "<html><body><table border=\"1\"><tr><th style=\"text-align:left;white-space:pre\">rental_id</th><th style=\"text-align:left;white-space:pre\">rental_date</th><th style=\"text-align:left;white-space:pre\">inventory_id</th><th style=\"text-align:left;white-space:pre\">customer_id</th><th style=\"text-align:left;white-space:pre\">return_date</th><th style=\"text-align:left;white-space:pre\">staff_id</th><th style=\"text-align:left;white-space:pre\">last_update</th></tr><tr><td style=\"text-align:left;white-space:pre\">10141</td><td style=\"text-align:left;white-space:pre\">2005-07-31 22:08:29</td><td style=\"text-align:left;white-space:pre\">8</td><td style=\"text-align:left;white-space:pre\">8</td><td style=\"text-align:left;white-space:pre\">2005-08-06 16:59:29</td><td style=\"text-align:left;white-space:pre\">1</td><td style=\"text-align:left;white-space:pre\">2006-02-15 21:30:53</td></tr><tr><td style=\"text-align:left;white-space:pre\">12651</td><td style=\"text-align:left;white-space:pre\">2005-08-18 18:36:16</td><td style=\"text-align:left;white-space:pre\">8</td><td style=\"text-align:left;white-space:pre\">34</td><td style=\"text-align:left;white-space:pre\">2005-08-22 22:01:16</td><td style=\"text-align:left;white-space:pre\">1</td><td style=\"text-align:left;white-space:pre\">2006-02-15 21:30:53</td></tr></table></body></html>"
      ]
     },
     "metadata": {},
     "output_type": "display_data"
    }
   ],
   "source": [
    "SELECT * \n",
    "  FROM rental\n",
    "  where inventory_id = 8;"
   ]
  },
  {
   "cell_type": "code",
   "execution_count": 27,
   "metadata": {},
   "outputs": [
    {
     "data": {
      "text/html": [
       "<html><body><table border=\"1\"><tr><th style=\"text-align:left;white-space:pre\">inventory_held_by_customer(9)</th></tr><tr><td style=\"text-align:left;white-space:pre\">366</td></tr></table></body></html>"
      ]
     },
     "metadata": {},
     "output_type": "display_data"
    }
   ],
   "source": [
    "SELECT inventory_held_by_customer(9);"
   ]
  },
  {
   "cell_type": "markdown",
   "metadata": {},
   "source": [
    "Entonces el id del cliente que tiene actualmente el item 9 es 366"
   ]
  },
  {
   "cell_type": "code",
   "execution_count": 28,
   "metadata": {},
   "outputs": [
    {
     "data": {
      "text/html": [
       "<html><body><table border=\"1\"><tr><th style=\"text-align:left;white-space:pre\">rental_id</th><th style=\"text-align:left;white-space:pre\">rental_date</th><th style=\"text-align:left;white-space:pre\">inventory_id</th><th style=\"text-align:left;white-space:pre\">customer_id</th><th style=\"text-align:left;white-space:pre\">return_date</th><th style=\"text-align:left;white-space:pre\">staff_id</th><th style=\"text-align:left;white-space:pre\">last_update</th></tr><tr><td style=\"text-align:left;white-space:pre\">10310</td><td style=\"text-align:left;white-space:pre\">2005-08-01 04:24:47</td><td style=\"text-align:left;white-space:pre\">9</td><td style=\"text-align:left;white-space:pre\">271</td><td style=\"text-align:left;white-space:pre\">2005-08-04 05:36:47</td><td style=\"text-align:left;white-space:pre\">2</td><td style=\"text-align:left;white-space:pre\">2006-02-15 21:30:53</td></tr><tr><td style=\"text-align:left;white-space:pre\">13421</td><td style=\"text-align:left;white-space:pre\">2006-02-14 15:16:03</td><td style=\"text-align:left;white-space:pre\">9</td><td style=\"text-align:left;white-space:pre\">366</td><td style=\"text-align:left;white-space:pre\">NULL</td><td style=\"text-align:left;white-space:pre\">1</td><td style=\"text-align:left;white-space:pre\">2006-02-15 21:30:53</td></tr></table></body></html>"
      ]
     },
     "metadata": {},
     "output_type": "display_data"
    }
   ],
   "source": [
    "SELECT * \n",
    "  FROM rental\n",
    "  where inventory_id = 9;"
   ]
  },
  {
   "cell_type": "markdown",
   "metadata": {},
   "source": [
    "**Procedimientos**\n",
    "\n"
   ]
  },
  {
   "cell_type": "markdown",
   "metadata": {},
   "source": [
    "Ejemplo 1\n",
    "\n",
    "Procedimiento *The film_in_stock Stored*\n",
    "\n",
    "Este procedimiento determina si hay copias de una película determinada en stock en una tienda determinada.\n",
    "\n"
   ]
  },
  {
   "cell_type": "markdown",
   "metadata": {},
   "source": [
    "A continuacion se crea el procedimiento. "
   ]
  },
  {
   "cell_type": "code",
   "execution_count": 29,
   "metadata": {},
   "outputs": [
    {
     "name": "stderr",
     "output_type": "stream",
     "text": [
      "PROCEDURE film_in_stock already exists\n",
      "ERROR 1065 (42000) at line 4 in file: '/home/camilo/Descargas/.mariadb_statement': Query was empty\n",
      "\u0007\u001b(B\u001b[0;7m\u001b(B\u001b[m\u0007\u001b(B\u001b[0;7m\u001b(B\u001b[m\n"
     ]
    }
   ],
   "source": [
    "DELIMITER ;\n",
    "DELIMITER $$\n",
    "\n",
    "CREATE PROCEDURE film_in_stock(IN p_film_id INT, IN p_store_id INT, OUT p_film_count INT)\n",
    "READS SQL DATA\n",
    "BEGIN\n",
    "     SELECT inventory_id\n",
    "     FROM inventory\n",
    "     WHERE film_id = p_film_id\n",
    "     AND store_id = p_store_id\n",
    "     AND inventory_in_stock(inventory_id);\n",
    "\n",
    "     SELECT COUNT(*)\n",
    "     FROM inventory\n",
    "     WHERE film_id = p_film_id\n",
    "     AND store_id = p_store_id\n",
    "     AND inventory_in_stock(inventory_id)\n",
    "     INTO p_film_count;\n",
    "END $$;"
   ]
  },
  {
   "cell_type": "markdown",
   "metadata": {},
   "source": [
    "Ahora vamos a determinar si el film con id igual a 1 tiene copias en la tienda con id 1 y se almacenará la cantidad de copias en la variable @count"
   ]
  },
  {
   "cell_type": "code",
   "execution_count": 30,
   "metadata": {},
   "outputs": [
    {
     "data": {
      "text/html": [
       "<html><body><table border=\"1\"><tr><th style=\"text-align:left;white-space:pre\">inventory_id</th></tr><tr><td style=\"text-align:left;white-space:pre\">1</td></tr><tr><td style=\"text-align:left;white-space:pre\">2</td></tr><tr><td style=\"text-align:left;white-space:pre\">3</td></tr><tr><td style=\"text-align:left;white-space:pre\">4</td></tr></table></body></html>"
      ]
     },
     "metadata": {},
     "output_type": "display_data"
    }
   ],
   "source": [
    "CALL film_in_stock(1,1,@count);"
   ]
  },
  {
   "cell_type": "code",
   "execution_count": 31,
   "metadata": {},
   "outputs": [
    {
     "data": {
      "text/html": [
       "<html><body><table border=\"1\"><tr><th style=\"text-align:left;white-space:pre\">@count</th></tr><tr><td style=\"text-align:left;white-space:pre\">4</td></tr></table></body></html>"
      ]
     },
     "metadata": {},
     "output_type": "display_data"
    }
   ],
   "source": [
    "SELECT @count;"
   ]
  },
  {
   "cell_type": "markdown",
   "metadata": {},
   "source": [
    "Ahora verifiquemos la cantidad de copias del film con id=1  en la tienda con id = 1."
   ]
  },
  {
   "cell_type": "code",
   "execution_count": 32,
   "metadata": {},
   "outputs": [
    {
     "data": {
      "text/html": [
       "<html><body><table border=\"1\"><tr><th style=\"text-align:left;white-space:pre\">inventory_id</th><th style=\"text-align:left;white-space:pre\">film_id</th><th style=\"text-align:left;white-space:pre\">store_id</th><th style=\"text-align:left;white-space:pre\">last_update</th></tr><tr><td style=\"text-align:left;white-space:pre\">1</td><td style=\"text-align:left;white-space:pre\">1</td><td style=\"text-align:left;white-space:pre\">1</td><td style=\"text-align:left;white-space:pre\">2006-02-15 05:09:17</td></tr><tr><td style=\"text-align:left;white-space:pre\">2</td><td style=\"text-align:left;white-space:pre\">1</td><td style=\"text-align:left;white-space:pre\">1</td><td style=\"text-align:left;white-space:pre\">2006-02-15 05:09:17</td></tr><tr><td style=\"text-align:left;white-space:pre\">3</td><td style=\"text-align:left;white-space:pre\">1</td><td style=\"text-align:left;white-space:pre\">1</td><td style=\"text-align:left;white-space:pre\">2006-02-15 05:09:17</td></tr><tr><td style=\"text-align:left;white-space:pre\">4</td><td style=\"text-align:left;white-space:pre\">1</td><td style=\"text-align:left;white-space:pre\">1</td><td style=\"text-align:left;white-space:pre\">2006-02-15 05:09:17</td></tr></table></body></html>"
      ]
     },
     "metadata": {},
     "output_type": "display_data"
    }
   ],
   "source": [
    "select * from inventory\n",
    "WHERE film_id = 1\n",
    "AND store_id = 1;"
   ]
  },
  {
   "cell_type": "code",
   "execution_count": null,
   "metadata": {},
   "outputs": [],
   "source": []
  }
 ],
 "metadata": {
  "kernelspec": {
   "display_name": "MariaDB",
   "language": "SQL",
   "name": "mariadb_kernel"
  },
  "language_info": {
   "file_extension": ".sql",
   "mimetype": "text/plain",
   "name": "SQL"
  }
 },
 "nbformat": 4,
 "nbformat_minor": 2
}
